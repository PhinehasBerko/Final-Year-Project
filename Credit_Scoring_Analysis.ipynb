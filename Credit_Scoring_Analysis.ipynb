{
  "nbformat": 4,
  "nbformat_minor": 0,
  "metadata": {
    "colab": {
      "provenance": [],
      "toc_visible": true,
      "authorship_tag": "ABX9TyO6XDFy6z9igq33fUKbP1S4",
      "include_colab_link": true
    },
    "kernelspec": {
      "name": "python3",
      "display_name": "Python 3"
    },
    "language_info": {
      "name": "python"
    }
  },
  "cells": [
    {
      "cell_type": "markdown",
      "metadata": {
        "id": "view-in-github",
        "colab_type": "text"
      },
      "source": [
        "<a href=\"https://colab.research.google.com/github/PhinehasBerko/Final-Year-Project/blob/main/Credit_Scoring_Analysis.ipynb\" target=\"_parent\"><img src=\"https://colab.research.google.com/assets/colab-badge.svg\" alt=\"Open In Colab\"/></a>"
      ]
    },
    {
      "cell_type": "code",
      "source": [
        "from google.colab import drive\n",
        "drive.mount('/content/drive')"
      ],
      "metadata": {
        "colab": {
          "base_uri": "https://localhost:8080/"
        },
        "id": "eoYP5bfTJXCJ",
        "outputId": "79719c54-e1d0-4ce2-ae8e-64b7ccb4b2c4"
      },
      "execution_count": 3,
      "outputs": [
        {
          "output_type": "stream",
          "name": "stdout",
          "text": [
            "Mounted at /content/drive\n"
          ]
        }
      ]
    },
    {
      "cell_type": "code",
      "source": [],
      "metadata": {
        "id": "9LD8Jk78K81V"
      },
      "execution_count": null,
      "outputs": []
    },
    {
      "cell_type": "markdown",
      "source": [
        "## Import Libraries"
      ],
      "metadata": {
        "id": "zvwT8pu35mCg"
      }
    },
    {
      "cell_type": "code",
      "source": [
        "import numpy as np\n",
        "import pandas as pd\n",
        "import time\n",
        "\n",
        "import matplotlib.pyplot as plt\n",
        "%matplotlib inline\n",
        "import matplotlib\n",
        "import seaborn as sns\n",
        "import plotly.express as px\n",
        "import plotly.tools as tls\n",
        "import plotly.graph_objs as go\n",
        "import plotly.offline as py\n",
        "import missingno as msno\n",
        "\n",
        "from sklearn.tree import plot_tree\n",
        "from sklearn import tree\n",
        "\n",
        "\n",
        "from collections import Counter\n",
        "from sklearn.datasets import make_classification\n",
        "from imblearn.over_sampling import SMOTE\n",
        "from xgboost import XGBClassifier\n",
        "from sklearn.ensemble import RandomForestClassifier\n",
        "from sklearn.linear_model import LogisticRegression\n",
        "from sklearn.tree import DecisionTreeClassifier\n",
        "from sklearn.naive_bayes import GaussianNB\n",
        "from sklearn.ensemble import GradientBoostingClassifier\n",
        "\n",
        "from sklearn.preprocessing import (StandardScaler, LabelEncoder, OneHotEncoder)\n",
        "from sklearn import metrics\n",
        "from sklearn.metrics import (accuracy_score, auc, precision_score, recall_score, f1_score, roc_auc_score, confusion_matrix)\n",
        "from sklearn.model_selection import train_test_split\n",
        "from sklearn.metrics import roc_curve\n",
        "from sklearn.model_selection import (GridSearchCV, StratifiedKFold, cross_val_score)"
      ],
      "metadata": {
        "id": "PiblHFAzYrd1"
      },
      "execution_count": 2,
      "outputs": []
    },
    {
      "cell_type": "code",
      "source": [],
      "metadata": {
        "id": "7qz2-ScVJUsT"
      },
      "execution_count": null,
      "outputs": []
    },
    {
      "cell_type": "markdown",
      "source": [
        "## Exploratory Data Analysis"
      ],
      "metadata": {
        "id": "3LYcZ5uI5r2r"
      }
    },
    {
      "cell_type": "markdown",
      "source": [
        "## Feature Analysis"
      ],
      "metadata": {
        "id": "_X4t3hsY5x8e"
      }
    },
    {
      "cell_type": "markdown",
      "source": [
        "## Feature Engineering"
      ],
      "metadata": {
        "id": "e4HQ1FXB59FR"
      }
    },
    {
      "cell_type": "markdown",
      "source": [
        "## Standardization"
      ],
      "metadata": {
        "id": "gW6wdkiY6A-v"
      }
    },
    {
      "cell_type": "markdown",
      "source": [
        "## Modeling"
      ],
      "metadata": {
        "id": "_X9CG32F6GF5"
      }
    },
    {
      "cell_type": "code",
      "source": [],
      "metadata": {
        "id": "jhWEDJK05j4e"
      },
      "execution_count": null,
      "outputs": []
    }
  ]
}